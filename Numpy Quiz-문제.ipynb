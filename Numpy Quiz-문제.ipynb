{
 "cells": [
  {
   "cell_type": "code",
   "execution_count": 3,
   "id": "7d34f957",
   "metadata": {},
   "outputs": [],
   "source": [
    "# 필요한 라이브러리를 불러옵니다.\n",
    "import numpy as np"
   ]
  },
  {
   "cell_type": "markdown",
   "id": "e35027db",
   "metadata": {},
   "source": [
    "### 1. 값이 10~49인 numpy array를 만드세요"
   ]
  },
  {
   "cell_type": "code",
   "execution_count": 5,
   "id": "73da43e1",
   "metadata": {},
   "outputs": [
    {
     "name": "stdout",
     "output_type": "stream",
     "text": [
      "[10 11 12 13 14 15 16 17 18 19 20 21 22 23 24 25 26 27 28 29 30 31 32 33\n",
      " 34 35 36 37 38 39 40 41 42 43 44 45 46 47 48 49]\n"
     ]
    }
   ],
   "source": [
    "z = np.arange(10,50)\n",
    "print(z)"
   ]
  },
  {
   "cell_type": "markdown",
   "id": "7fe92102",
   "metadata": {},
   "source": [
    "### 2. z를 반전하세요."
   ]
  },
  {
   "cell_type": "code",
   "execution_count": 12,
   "id": "2cde4f18",
   "metadata": {},
   "outputs": [
    {
     "name": "stdout",
     "output_type": "stream",
     "text": [
      "[49 48 47 46 45 44 43 42 41 40 39 38 37 36 35 34 33 32 31 30 29 28 27 26\n",
      " 25 24 23 22 21 20 19 18 17 16 15 14 13 12 11 10]\n"
     ]
    }
   ],
   "source": [
    "z = np.flip(z)\n",
    "print(z)"
   ]
  },
  {
   "cell_type": "markdown",
   "id": "a04b347c",
   "metadata": {},
   "source": [
    "### 3. 반전시킨 z 매트릭스를 10 x 4 매트릭스로 바꾸세요."
   ]
  },
  {
   "cell_type": "code",
   "execution_count": 19,
   "id": "fcf79ba9",
   "metadata": {},
   "outputs": [
    {
     "name": "stdout",
     "output_type": "stream",
     "text": [
      "[[49 48 47 46]\n",
      " [45 44 43 42]\n",
      " [41 40 39 38]\n",
      " [37 36 35 34]\n",
      " [33 32 31 30]\n",
      " [29 28 27 26]\n",
      " [25 24 23 22]\n",
      " [21 20 19 18]\n",
      " [17 16 15 14]\n",
      " [13 12 11 10]]\n"
     ]
    }
   ],
   "source": [
    "z = np.reshape(z,(10,4))\n",
    "print(z)"
   ]
  },
  {
   "cell_type": "markdown",
   "id": "a8fb1466",
   "metadata": {},
   "source": [
    "### 4. x에서 0이 아닌 요소의 색인을 찾아보세요."
   ]
  },
  {
   "cell_type": "code",
   "execution_count": 23,
   "id": "0b0944c7",
   "metadata": {},
   "outputs": [
    {
     "name": "stdout",
     "output_type": "stream",
     "text": [
      "(array([0, 1, 2, 4, 6], dtype=int64),)\n"
     ]
    }
   ],
   "source": [
    "x = np.array([5,6,8,0,1,0,7])\n",
    "nz_idx = np.nonzero(x)\n",
    "print(nz_idx)"
   ]
  },
  {
   "cell_type": "markdown",
   "id": "fb98a12e",
   "metadata": {},
   "source": [
    "### nan 값 이해하기\n",
    "\n"
   ]
  },
  {
   "cell_type": "code",
   "execution_count": 6,
   "id": "7d12b519",
   "metadata": {},
   "outputs": [
    {
     "name": "stdout",
     "output_type": "stream",
     "text": [
      "False\n",
      "True\n",
      "False\n",
      "True\n"
     ]
    }
   ],
   "source": [
    "print(np.nan == np.nan)\n",
    "print(np.isnan(np.nan))\n",
    "\n",
    "import math\n",
    "print(0.3 == 3 * 0.1)\n",
    "print(math.isclose(0.1 + 0.2, 0.3))"
   ]
  },
  {
   "cell_type": "markdown",
   "id": "87f765ae",
   "metadata": {},
   "source": [
    "### 5. 12 x 12 매트릭스를 만들어 바둑판 패턴으로 0과 1을 채우세요"
   ]
  },
  {
   "cell_type": "code",
   "execution_count": 25,
   "id": "e9279b68",
   "metadata": {},
   "outputs": [
    {
     "name": "stdout",
     "output_type": "stream",
     "text": [
      "[[0. 0. 0. 0. 0. 0. 0. 0. 0. 0. 0. 0.]\n",
      " [0. 0. 0. 0. 0. 0. 0. 0. 0. 0. 0. 0.]\n",
      " [0. 0. 0. 0. 0. 0. 0. 0. 0. 0. 0. 0.]\n",
      " [0. 0. 0. 0. 0. 0. 0. 0. 0. 0. 0. 0.]\n",
      " [0. 0. 0. 0. 0. 0. 0. 0. 0. 0. 0. 0.]\n",
      " [0. 0. 0. 0. 0. 0. 0. 0. 0. 0. 0. 0.]\n",
      " [0. 0. 0. 0. 0. 0. 0. 0. 0. 0. 0. 0.]\n",
      " [0. 0. 0. 0. 0. 0. 0. 0. 0. 0. 0. 0.]\n",
      " [0. 0. 0. 0. 0. 0. 0. 0. 0. 0. 0. 0.]\n",
      " [0. 0. 0. 0. 0. 0. 0. 0. 0. 0. 0. 0.]\n",
      " [0. 0. 0. 0. 0. 0. 0. 0. 0. 0. 0. 0.]\n",
      " [0. 0. 0. 0. 0. 0. 0. 0. 0. 0. 0. 0.]]\n",
      "\n",
      "[[0. 1. 0. 1. 0. 1. 0. 1. 0. 1. 0. 1.]\n",
      " [1. 0. 1. 0. 1. 0. 1. 0. 1. 0. 1. 0.]\n",
      " [0. 1. 0. 1. 0. 1. 0. 1. 0. 1. 0. 1.]\n",
      " [1. 0. 1. 0. 1. 0. 1. 0. 1. 0. 1. 0.]\n",
      " [0. 1. 0. 1. 0. 1. 0. 1. 0. 1. 0. 1.]\n",
      " [1. 0. 1. 0. 1. 0. 1. 0. 1. 0. 1. 0.]\n",
      " [0. 1. 0. 1. 0. 1. 0. 1. 0. 1. 0. 1.]\n",
      " [1. 0. 1. 0. 1. 0. 1. 0. 1. 0. 1. 0.]\n",
      " [0. 1. 0. 1. 0. 1. 0. 1. 0. 1. 0. 1.]\n",
      " [1. 0. 1. 0. 1. 0. 1. 0. 1. 0. 1. 0.]\n",
      " [0. 1. 0. 1. 0. 1. 0. 1. 0. 1. 0. 1.]\n",
      " [1. 0. 1. 0. 1. 0. 1. 0. 1. 0. 1. 0.]]\n"
     ]
    }
   ],
   "source": [
    "x = np.zeros((12, 12))\n",
    "print(x, end='\\n\\n')\n",
    "###############\n",
    "# 슬라이싱을 사용하세요\n",
    "\n",
    "x[1::2, ::2]=1\n",
    "x[::2, 1::2]=1\n",
    "\n",
    "###############\n",
    "print(x)"
   ]
  },
  {
   "cell_type": "markdown",
   "id": "8765875e",
   "metadata": {},
   "source": [
    "### 6. np.tile 을 이용해서 동일한 바둑판 배턴을 만들어보세요"
   ]
  },
  {
   "cell_type": "code",
   "execution_count": 27,
   "id": "fe6834dd",
   "metadata": {},
   "outputs": [
    {
     "name": "stdout",
     "output_type": "stream",
     "text": [
      "[[0 1 0 1 0 1 0 1 0 1 0 1]\n",
      " [1 0 1 0 1 0 1 0 1 0 1 0]\n",
      " [0 1 0 1 0 1 0 1 0 1 0 1]\n",
      " [1 0 1 0 1 0 1 0 1 0 1 0]\n",
      " [0 1 0 1 0 1 0 1 0 1 0 1]\n",
      " [1 0 1 0 1 0 1 0 1 0 1 0]\n",
      " [0 1 0 1 0 1 0 1 0 1 0 1]\n",
      " [1 0 1 0 1 0 1 0 1 0 1 0]\n",
      " [0 1 0 1 0 1 0 1 0 1 0 1]\n",
      " [1 0 1 0 1 0 1 0 1 0 1 0]\n",
      " [0 1 0 1 0 1 0 1 0 1 0 1]\n",
      " [1 0 1 0 1 0 1 0 1 0 1 0]]\n"
     ]
    }
   ],
   "source": [
    "x = np.array([[0,1],[1,0]])\n",
    "x = np.tile(x, (6,6))\n",
    "print(x)"
   ]
  },
  {
   "cell_type": "markdown",
   "id": "b1a5847c",
   "metadata": {},
   "source": [
    "### 7. 1차원 배열이 x에서 값이 5~10인 요소를 0으로 바꾸세요"
   ]
  },
  {
   "cell_type": "code",
   "execution_count": 29,
   "id": "65c9aa1f",
   "metadata": {},
   "outputs": [
    {
     "name": "stdout",
     "output_type": "stream",
     "text": [
      "[ 2  5  3  8  3 34 23  7 10]\n",
      "[ 2  0  3  0  3 34 23  0  0]\n"
     ]
    }
   ],
   "source": [
    "x = np.array([2,5,3,8,3,34,23,7,10])\n",
    "print(x)\n",
    "##################\n",
    "# 필터링을 사용하세요.\n",
    "\n",
    "x[(x>=5)&(x<=10)]=0\n",
    "\n",
    "##################\n",
    "print(x)"
   ]
  },
  {
   "cell_type": "markdown",
   "id": "d5bd1501",
   "metadata": {},
   "source": [
    "### 8. 0에서 100 사이의 값으로 크기가 10인 1차원 array를 만드세요"
   ]
  },
  {
   "cell_type": "code",
   "execution_count": 42,
   "id": "d79b7318",
   "metadata": {
    "scrolled": true
   },
   "outputs": [
    {
     "name": "stdout",
     "output_type": "stream",
     "text": [
      "[11.1381124   1.73525725 12.22537527 10.74202471 57.21203531 39.19524768\n",
      " 65.06221192 90.06875231 91.09977074 64.48853565]\n"
     ]
    }
   ],
   "source": [
    "x = np.random.uniform(0,101, 10)\n",
    "print(x)"
   ]
  },
  {
   "cell_type": "markdown",
   "id": "143e78e1",
   "metadata": {},
   "source": [
    "### 9. np.allclose() 함수를 사용하여 2개의 array가 같은지를 확인해보세요"
   ]
  },
  {
   "cell_type": "code",
   "execution_count": 43,
   "id": "a3c991a2",
   "metadata": {},
   "outputs": [
    {
     "name": "stdout",
     "output_type": "stream",
     "text": [
      "True\n"
     ]
    }
   ],
   "source": [
    "A = np.array([1e10,1e-8])\n",
    "B = np.array([1.00001e10,1e-9])\n",
    "\n",
    "equal = np.allclose(A,B)\n",
    "print(equal)"
   ]
  },
  {
   "cell_type": "markdown",
   "id": "26819557",
   "metadata": {},
   "source": [
    "### 10. 데카르트 좌표를 나타내는 랜덤 8 x 2 행렬을 고려하여 극좌표로 변환해보세요."
   ]
  },
  {
   "cell_type": "code",
   "execution_count": 46,
   "id": "775d456f",
   "metadata": {},
   "outputs": [
    {
     "name": "stdout",
     "output_type": "stream",
     "text": [
      "[[0.71070911 0.00945654]\n",
      " [0.0593122  1.10461893]\n",
      " [0.37861712 1.0189053 ]\n",
      " [0.16287225 0.99409836]\n",
      " [0.54301878 0.13572917]\n",
      " [0.37596766 0.20013491]\n",
      " [0.38244455 0.88715855]\n",
      " [0.49907501 0.43948772]\n",
      " [0.89212894 1.40809266]\n",
      " [0.63755666 0.48656258]]\n"
     ]
    }
   ],
   "source": [
    "coord = np.random.random((10,2))\n",
    "x, y = coord[:,0], coord[:,1]\n",
    "r = x**2 + y**2\n",
    "theta = np.arctan2(y, x)\n",
    "ploar_coord = np.concatenate([r[:,np.newaxis], theta[:,np.newaxis]],axis=1)\n",
    "print(ploar_coord)\n",
    "\n",
    "# 잘모르겠네요ㅜㅜ"
   ]
  }
 ],
 "metadata": {
  "kernelspec": {
   "display_name": "Python 3 (ipykernel)",
   "language": "python",
   "name": "python3"
  },
  "language_info": {
   "codemirror_mode": {
    "name": "ipython",
    "version": 3
   },
   "file_extension": ".py",
   "mimetype": "text/x-python",
   "name": "python",
   "nbconvert_exporter": "python",
   "pygments_lexer": "ipython3",
   "version": "3.11.4"
  }
 },
 "nbformat": 4,
 "nbformat_minor": 5
}
